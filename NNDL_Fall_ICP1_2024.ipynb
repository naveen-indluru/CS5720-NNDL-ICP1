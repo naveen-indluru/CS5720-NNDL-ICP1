{
 "cells": [
  {
   "cell_type": "markdown",
   "id": "5c2343ed-4734-412e-9b87-5f6d1866bf52",
   "metadata": {},
   "source": [
    "# Fall 2024: CS5720 \n",
    "## Neural Networks & Deep Learning - ICP-1"
   ]
  },
  {
   "cell_type": "markdown",
   "id": "b2b7b892-ad47-44d7-a2b0-549fa18cca4b",
   "metadata": {},
   "source": [
    "#### 1. Write a program that takes two strings from the user: first_name, last_name. Pass these variables to fullname function that should return the (full name).\n",
    " - For example:\n",
    "\n",
    "    ▪ First_name = “your first name”, last_name = “your last name”\n",
    "   \n",
    "    ▪ Full_name = “your full name”\n",
    "   \n",
    " - Write function named “string_alternative” that returns every other char in the full_name string.\n",
    "   Str = “Good evening”\n",
    "   Output: Go vnn\n",
    "- Note: You need to create a function named “string_alternative” for this program and call it from main function.\n"
   ]
  },
  {
   "cell_type": "code",
   "execution_count": 1,
   "id": "5a38a5a5-2b62-4a3a-9840-6636d52e782c",
   "metadata": {},
   "outputs": [
    {
     "name": "stdin",
     "output_type": "stream",
     "text": [
      "Enter your first name:  Naveen\n",
      "Enter your last name:  Indluru\n"
     ]
    },
    {
     "name": "stdout",
     "output_type": "stream",
     "text": [
      "Full Name: Naveen Indluru\n"
     ]
    }
   ],
   "source": [
    "# Function to concatenate first name and last name\n",
    "def fullname(first_name, last_name):\n",
    "    return f\"{first_name} {last_name}\"\n",
    "\n",
    "def main():\n",
    "    # Taking first name and last name input from the user\n",
    "    first_name = input(\"Enter your first name: \")\n",
    "    last_name = input(\"Enter your last name: \")\n",
    "\n",
    "    # Getting the full name by calling the fullname function\n",
    "    full_name = fullname(first_name, last_name)\n",
    "    print(\"Full Name:\", full_name)\n",
    "\n",
    "if __name__ == \"__main__\":\n",
    "    main()\n"
   ]
  },
  {
   "cell_type": "code",
   "execution_count": 2,
   "id": "e4b38cbb-92c5-418d-9521-4bc75a487f55",
   "metadata": {},
   "outputs": [
    {
     "name": "stdout",
     "output_type": "stream",
     "text": [
      "String Alternative: Go vnn\n"
     ]
    }
   ],
   "source": [
    "# Function to return every other character from the input string\n",
    "def string_alternative(input_string):\n",
    "    #Taking every other character from the string by using slicing \n",
    "    return input_string[::2]\n",
    "\n",
    "def main():\n",
    "    full_name = \"Good evening\"\n",
    "    # Getting every other character from the full name by calling the string_alternative function\n",
    "    alternative_string = string_alternative(full_name)\n",
    "    print(\"String Alternative:\", alternative_string)\n",
    "\n",
    "if __name__ == \"__main__\":\n",
    "    main()"
   ]
  },
  {
   "cell_type": "markdown",
   "id": "742e9255-0fdc-4021-81d8-f3e74ab7e54f",
   "metadata": {},
   "source": [
    "#### 2. Write a python program to find the wordcount in a file (input.txt) for each line and then print the output.\n",
    "- o Finally store the output in output.txt file.\n",
    "  Example:\n",
    " - Input: a file includes two lines:\n",
    "  Python Course\n",
    "  Deep Learning Course\n",
    " - Output:\n",
    "  -- Python Course\n",
    "  -- Deep Learning Course\n",
    "  - Word_Count:\n",
    "  -- Python: 1\n",
    "  -- Course: 2\n",
    "  -- Deep: 1\n",
    "  -- Learning: 1\r\n",
    "Learning: 1"
   ]
  },
  {
   "cell_type": "code",
   "execution_count": 3,
   "id": "eabc8db8-5375-4952-a523-8be340a01dfe",
   "metadata": {},
   "outputs": [
    {
     "name": "stdout",
     "output_type": "stream",
     "text": [
      "Python Course\n",
      "Deep Learning Course\n",
      "\n",
      "Word_Count:\n",
      "Python: 1\n",
      "Course: 2\n",
      "Deep: 1\n",
      "Learning: 1\n"
     ]
    }
   ],
   "source": [
    "def word_count(input_file, output_file):\n",
    "    word_dict = {}\n",
    "\n",
    "    # Opening the output file for writing\n",
    "    with open(output_file, 'w') as output:\n",
    "        \n",
    "        # Reading the input file line by line\n",
    "        with open(input_file, 'r') as file:\n",
    "            lines = file.readlines()\n",
    "\n",
    "            # Writing each line to the output file and printing it\n",
    "            for line in lines:\n",
    "                output.write(line)\n",
    "                print(line.strip())  # Printing each line to the console\n",
    "                \n",
    "                # Counting words in each line\n",
    "                words = line.strip().split()\n",
    "                for word in words:\n",
    "                    word_dict[word] = word_dict.get(word, 0) + 1\n",
    "\n",
    "        # Writing the word counts to the output file\n",
    "        output.write(\"\\nWord_Count:\\n\")\n",
    "        print(\"\\nWord_Count:\")\n",
    "        for word, count in word_dict.items():\n",
    "            output.write(f\"{word}: {count}\\n\")\n",
    "            print(f\"{word}: {count}\")  # Printing each word count to the console\n",
    "\n",
    "def main():\n",
    "    # Define the input and output file names\n",
    "    input_file = 'input.txt'\n",
    "    output_file = 'output.txt'\n",
    "\n",
    "    # Call the word_count function to process the file\n",
    "    word_count(input_file, output_file)\n",
    "\n",
    "if __name__ == \"__main__\":\n",
    "    main()"
   ]
  },
  {
   "cell_type": "markdown",
   "id": "0d52e969-ec16-4125-aa1c-a1d58ac73882",
   "metadata": {},
   "source": [
    "#### 3. Write a program, which reads heights (inches.) of customers into a list and convert these heights to centimeters in a separate list using:\n",
    "- 1) Nested Interactive loop.\n",
    "- 2) List comprehensions\n",
    "  Example:\n",
    "\n",
    "     L1: [150,155, 145, 148]\n",
    "\n",
    "     Output: [68.03, 70.3, 65.77, 67.13]"
   ]
  },
  {
   "cell_type": "code",
   "execution_count": 4,
   "id": "805cb4dd-93a7-4b25-b44c-d5629491e4c9",
   "metadata": {},
   "outputs": [
    {
     "name": "stdout",
     "output_type": "stream",
     "text": [
      "Converted using interactive loop:  [381.0, 393.7, 368.3, 375.92]\n",
      "Converted using list comprehensions:  [381.0, 393.7, 368.3, 375.92]\n"
     ]
    }
   ],
   "source": [
    "# Converting from Inches to Centimeters\n",
    "# method 1 \n",
    "# using nested interactive loop\n",
    "def convert_heights_1(heights_inch:list):\n",
    "    height_cm = []\n",
    "    for entry in heights_inch:\n",
    "        height_cm.append(round(entry * 2.54, 2))\n",
    "    return height_cm\n",
    "\n",
    "# method 2\n",
    "# using list comprehensions\n",
    "def convert_heights_2(heights_inch:list):\n",
    "    height_cm = [round(entry * 2.54, 2) for entry in heights_inch]\n",
    "    return height_cm\n",
    "\n",
    "L1 = [150,155, 145, 148]\n",
    "print(\"Converted using interactive loop: \",convert_heights_1(L1))\n",
    "print(\"Converted using list comprehensions: \",convert_heights_2(L1))"
   ]
  },
  {
   "cell_type": "code",
   "execution_count": 5,
   "id": "f8d3cae3-0b87-4add-9ed1-d1f7a3eb9f13",
   "metadata": {},
   "outputs": [
    {
     "name": "stdout",
     "output_type": "stream",
     "text": [
      "Converted using interactive loop:  [59.05, 61.02, 57.09, 58.27]\n",
      "Converted using list comprehensions:  [59.05, 61.02, 57.09, 58.27]\n"
     ]
    }
   ],
   "source": [
    "# Converting from Centimeters to Inches\n",
    "# Method 1 - Using Nested Interactive Loop (cm to inches)\n",
    "def convert_heights_1(heights_cm: list):\n",
    "    height_inch = []\n",
    "    for entry in heights_cm:\n",
    "        height_inch.append(round(entry * 0.3937, 2))\n",
    "    return height_inch\n",
    "\n",
    "# Method 2 - Using List Comprehensions (cm to inches)\n",
    "def convert_heights_2(heights_cm: list):\n",
    "    height_inch = [round(entry * 0.3937, 2) for entry in heights_cm]\n",
    "    return height_inch\n",
    "\n",
    "L1 = [150, 155, 145, 148]\n",
    "print(\"Converted using interactive loop: \", convert_heights_1(L1))\n",
    "print(\"Converted using list comprehensions: \", convert_heights_2(L1))"
   ]
  },
  {
   "cell_type": "code",
   "execution_count": null,
   "id": "5b1908d2-f717-401e-b083-094c219c57cc",
   "metadata": {},
   "outputs": [],
   "source": []
  }
 ],
 "metadata": {
  "kernelspec": {
   "display_name": "Python 3 (ipykernel)",
   "language": "python",
   "name": "python3"
  },
  "language_info": {
   "codemirror_mode": {
    "name": "ipython",
    "version": 3
   },
   "file_extension": ".py",
   "mimetype": "text/x-python",
   "name": "python",
   "nbconvert_exporter": "python",
   "pygments_lexer": "ipython3",
   "version": "3.11.7"
  }
 },
 "nbformat": 4,
 "nbformat_minor": 5
}
